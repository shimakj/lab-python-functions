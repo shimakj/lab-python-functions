{
 "cells": [
  {
   "cell_type": "markdown",
   "id": "25d7736c-ba17-4aff-b6bb-66eba20fbf4e",
   "metadata": {},
   "source": [
    "# Lab | Functions"
   ]
  },
  {
   "cell_type": "markdown",
   "id": "0c581062-8967-4d93-b06e-62833222f930",
   "metadata": {
    "tags": []
   },
   "source": [
    "## Exercise: Managing Customer Orders with Functions\n",
    "\n",
    "In the previous exercise, you improved the code for managing customer orders by using loops and flow control. Now, let's take it a step further and refactor the code by introducing functions.\n",
    "\n",
    "Follow the steps below to complete the exercise:\n",
    "\n",
    "1. Define a function named `initialize_inventory` that takes `products` as a parameter. Inside the function, implement the code for initializing the inventory dictionary using a loop and user input.\n",
    "\n",
    "2. Define a function named `get_customer_orders` that takes no parameters. Inside the function, implement the code for prompting the user to enter the product names using a loop. The function should return the `customer_orders` set.\n",
    "\n",
    "3. Define a function named `update_inventory` that takes `customer_orders` and `inventory` as parameters. Inside the function, implement the code for updating the inventory dictionary based on the customer orders.\n",
    "\n",
    "4. Define a function named `calculate_order_statistics` that takes `customer_orders` and `products` as parameters. Inside the function, implement the code for calculating the order statistics (total products ordered, and percentage of unique products ordered). The function should return these values.\n",
    "\n",
    "5. Define a function named `print_order_statistics` that takes `order_statistics` as a parameter. Inside the function, implement the code for printing the order statistics.\n",
    "\n",
    "6. Define a function named `print_updated_inventory` that takes `inventory` as a parameter. Inside the function, implement the code for printing the updated inventory.\n",
    "\n",
    "7. Call the functions in the appropriate sequence to execute the program and manage customer orders.\n",
    "\n",
    "Hints for functions:\n",
    "\n",
    "- Consider the input parameters required for each function and their return values.\n",
    "- Utilize function parameters and return values to transfer data between functions.\n",
    "- Test your functions individually to ensure they work correctly.\n",
    "\n",
    "\n"
   ]
  },
  {
   "cell_type": "code",
   "execution_count": 1,
   "id": "780a4b77",
   "metadata": {},
   "outputs": [
    {
     "name": "stdout",
     "output_type": "stream",
     "text": [
      "{'t-shirt': 10, 'mug': 10, 'hat': 10, 'book': 10, 'keychain': 10}\n"
     ]
    }
   ],
   "source": [
    "products = [\"t-shirt\", \"mug\", \"hat\", \"book\", \"keychain\"]\n",
    "inventory = {product: int(input(f\"Enter the quantity for {product}: \")) for product in products}\n",
    "print(inventory)"
   ]
  },
  {
   "cell_type": "code",
   "execution_count": 2,
   "id": "9eef46e0",
   "metadata": {},
   "outputs": [],
   "source": [
    "\n",
    "\n",
    "def initialize_inventory(products):\n",
    "    inventory = {}\n",
    "    for product in products:\n",
    "        quantity = int(input(f\"Enter the quantity for {product}: \"))\n",
    "        inventory[product] = quantity\n",
    "    return inventory\n",
    "\n",
    "\n",
    "\n"
   ]
  },
  {
   "cell_type": "code",
   "execution_count": 3,
   "id": "3e948c2e",
   "metadata": {},
   "outputs": [
    {
     "name": "stdout",
     "output_type": "stream",
     "text": [
      "{'book', 'hat'}\n"
     ]
    }
   ],
   "source": [
    "def get_customer_orders(products):\n",
    "    customer_orders = set()\n",
    "    while True:\n",
    "        product = input(\"Enter the name of a product to order: \").strip().lower()\n",
    "        \n",
    "        if product not in products:\n",
    "            print(\"Invalid product. Please enter a valid product name.\")\n",
    "            continue\n",
    "        \n",
    "        customer_orders.add(product)\n",
    "        another = input(\"Do you want to add another product? (yes/no): \").strip().lower()\n",
    "        if another == \"no\":\n",
    "            break\n",
    "    return customer_orders\n",
    "print(get_customer_orders(products))\n"
   ]
  },
  {
   "cell_type": "code",
   "execution_count": 4,
   "id": "51258048",
   "metadata": {},
   "outputs": [
    {
     "name": "stdout",
     "output_type": "stream",
     "text": [
      "{'t-shirt': 10, 'mug': 10, 'hat': 9, 'book': 10, 'keychain': 10}\n"
     ]
    }
   ],
   "source": [
    "\n",
    "def update_inventory(customer_orders, inventory):\n",
    "    for product in customer_orders:\n",
    "        if inventory[product] > 0:\n",
    "            inventory[product] -= 1\n",
    "    return inventory\n",
    "print(update_inventory(get_customer_orders(products), inventory))"
   ]
  },
  {
   "cell_type": "code",
   "execution_count": 5,
   "id": "e4f54175",
   "metadata": {},
   "outputs": [
    {
     "name": "stdout",
     "output_type": "stream",
     "text": [
      "(1, 20.0)\n"
     ]
    }
   ],
   "source": [
    "\n",
    "def calculate_order_statistics(customer_orders, products):\n",
    "    total_products_ordered = len(customer_orders)\n",
    "    total_products_available = len(products)\n",
    "    percentage_ordered = (total_products_ordered / total_products_available) * 100\n",
    "    return total_products_ordered, percentage_ordered\n",
    "print(calculate_order_statistics(get_customer_orders(products), products))\n"
   ]
  },
  {
   "cell_type": "code",
   "execution_count": 8,
   "id": "7787d99b",
   "metadata": {},
   "outputs": [
    {
     "name": "stdout",
     "output_type": "stream",
     "text": [
      "\n",
      "Order Statistics:\n",
      "Total products ordered: 1\n",
      "Percentage of unique products ordered: 20.00%\n",
      "\n",
      "Updated Inventory:\n",
      "t-shirt: 10\n",
      "mug: 10\n",
      "hat: 10\n",
      "book: 9\n",
      "keychain: 10\n"
     ]
    }
   ],
   "source": [
    "\n",
    "def print_order_statistics(order_statistics):\n",
    "    total_products_ordered, percentage_ordered = order_statistics\n",
    "    print(\"\\nOrder Statistics:\")\n",
    "    print(f\"Total products ordered: {total_products_ordered}\")\n",
    "    print(f\"Percentage of unique products ordered: {percentage_ordered:.2f}%\")\n",
    "\n",
    "\n",
    "def print_updated_inventory(inventory):\n",
    "    print(\"\\nUpdated Inventory:\")\n",
    "    for product, quantity in inventory.items():\n",
    "        print(f\"{product}: {quantity}\")\n",
    "\n",
    "\n",
    "if __name__ == \"__main__\":\n",
    "   \n",
    "    products = [\"t-shirt\", \"mug\", \"hat\", \"book\", \"keychain\"]\n",
    "    inventory = initialize_inventory(products)\n",
    "   \n",
    "    customer_orders = get_customer_orders(products)\n",
    "    \n",
    "  \n",
    "    inventory = update_inventory(customer_orders, inventory)\n",
    "\n",
    "    order_statistics = calculate_order_statistics(customer_orders, products)\n",
    "    print_order_statistics(order_statistics)\n",
    "\n",
    "    print_updated_inventory(inventory)\n"
   ]
  },
  {
   "cell_type": "code",
   "execution_count": null,
   "id": "5e907233",
   "metadata": {},
   "outputs": [],
   "source": []
  }
 ],
 "metadata": {
  "kernelspec": {
   "display_name": "base",
   "language": "python",
   "name": "python3"
  },
  "language_info": {
   "codemirror_mode": {
    "name": "ipython",
    "version": 3
   },
   "file_extension": ".py",
   "mimetype": "text/x-python",
   "name": "python",
   "nbconvert_exporter": "python",
   "pygments_lexer": "ipython3",
   "version": "3.12.7"
  }
 },
 "nbformat": 4,
 "nbformat_minor": 5
}
